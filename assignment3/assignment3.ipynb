{
 "cells": [
  {
   "cell_type": "markdown",
   "metadata": {
    "deletable": false,
    "nbgrader": {
     "checksum": "febe71d3d81af3aab7b634cadcaef0f5",
     "grade": false,
     "grade_id": "title",
     "locked": true,
     "solution": false
    }
   },
   "source": [
    "## Assignment 3 (Due 11 November 2016 by 11:59pm)"
   ]
  },
  {
   "cell_type": "markdown",
   "metadata": {
    "deletable": false,
    "nbgrader": {
     "checksum": "6c3f6509ff67abd272599ccd743f4afa",
     "grade": false,
     "grade_id": "part_a",
     "locked": true,
     "solution": false
    }
   },
   "source": [
    "---\n",
    "## Part a (5 points)\n",
    "Implement an object-oriented PRNG based on the SHA-256 hash of a seed concatenated with a sequence number, in Python, by subclassing the class Random and overwriting the methods random(), seed(), getstate(), setstate(), jumpahead(), and getrandbits(). Your implementation should inherit shuffle(), choice(), sample(), randbelow(), etc., from the parent Random class."
   ]
  },
  {
   "cell_type": "code",
   "execution_count": null,
   "metadata": {
    "collapsed": false,
    "deletable": false,
    "nbgrader": {
     "checksum": "e83248c3be425630e5728bcbec62de42",
     "grade": true,
     "grade_id": "a_random",
     "locked": false,
     "points": 4,
     "solution": true
    }
   },
   "outputs": [],
   "source": [
    "import random\n",
    "import hashlib as _hashlib\n",
    "from os import urandom as _urandom\n",
    "from binascii import hexlify as _hexlify\n",
    "\n",
    "class FancyRandom(random.Random):\n",
    "    \"\"\"\n",
    "    PRNG based on the SHA-256 hash of a seed concatenated with a sequence number\n",
    "    You should overwrite the methods random(), seed(), getstate(), setstate(), jumpahead(), and getrandbits()\n",
    "    \"\"\"\n",
    "    # YOUR CODE HERE\n",
    "    raise NotImplementedError()"
   ]
  },
  {
   "cell_type": "code",
   "execution_count": null,
   "metadata": {
    "collapsed": false,
    "deletable": false,
    "nbgrader": {
     "checksum": "fe7c2e52537565103e6001a971146750",
     "grade": true,
     "grade_id": "a_test1",
     "locked": true,
     "points": 1,
     "solution": false
    }
   },
   "outputs": [],
   "source": [
    "def test_random01(seed):\n",
    "    \"\"\"\n",
    "    Test the random number is in the range [0.0, 1.0)\n",
    "    \"\"\"\n",
    "    random_generator = FancyRandom()\n",
    "    random_generator.seed(seed)\n",
    "    res = random_generator.random()\n",
    "    return res < 1 and res >= 0 \n",
    "\n",
    "assert test_random01(123456)\n",
    "\n",
    "def test_random01_all(n):\n",
    "    \"\"\"\n",
    "    Test the random number is in the range [0.0, 1.0)\n",
    "    for n different seeds\n",
    "    \"\"\"\n",
    "    for i in range(n):\n",
    "        if not test_random01(i):\n",
    "            return False\n",
    "    return True\n",
    "\n",
    "assert test_random01_all(1000)"
   ]
  },
  {
   "cell_type": "markdown",
   "metadata": {
    "deletable": false,
    "nbgrader": {
     "checksum": "c16d57e78c34dd9f29f437a2d9ba8c2e",
     "grade": false,
     "grade_id": "part_b",
     "locked": true,
     "solution": false
    }
   },
   "source": [
    "---\n",
    "## Part b (8 points)\n",
    "Implement tests of: \n",
    "\n",
    "(at least one for each, more tests will be **bonus**)\n",
    "1. setting the seed: at least one test to take care of int, long, str seed\n",
    "2. setting the state\n",
    "3. getting the state\n",
    "4. jumping ahead: at least one test for transitivity, \"jump(a+b) = jump(a) followed by jump(b)\"\n",
    "5. getrandbits: at least one test to check exactly k bits are given\n",
    "6. at least two tests for uniformity, with “reasonable” power to detect a bug, including a test using the Kolmogorov-Smirnov statistic for random() and a binomial test for the single-bit frequency for getrandbits().\n",
    "7. tests that your class inherited the expected methods from the parent class"
   ]
  },
  {
   "cell_type": "markdown",
   "metadata": {
    "deletable": false,
    "nbgrader": {
     "checksum": "c059c3ca779af3a79465e2ad106d7216",
     "grade": false,
     "grade_id": "b_1",
     "locked": true,
     "solution": false
    }
   },
   "source": [
    "B.1. setting the seed: at least one test to check same seed gives same result"
   ]
  },
  {
   "cell_type": "code",
   "execution_count": null,
   "metadata": {
    "collapsed": false,
    "deletable": false,
    "nbgrader": {
     "checksum": "e65a03ed8de7fcb6d43c7dcd606178c9",
     "grade": true,
     "grade_id": "b_1_test",
     "locked": false,
     "points": 1,
     "solution": true
    }
   },
   "outputs": [],
   "source": [
    "def test_seed():\n",
    "    \"\"\"\n",
    "    at least check same seed will give same result\n",
    "    \"\"\"\n",
    "    # YOUR CODE HERE\n",
    "    raise NotImplementedError()\n",
    "    assert a == b\n",
    "    \n",
    "test_seed()"
   ]
  },
  {
   "cell_type": "markdown",
   "metadata": {
    "deletable": false,
    "nbgrader": {
     "checksum": "ea66b6df1119ed56fdbde7783c70697b",
     "grade": false,
     "grade_id": "b_2",
     "locked": true,
     "solution": false
    }
   },
   "source": [
    "B.2. setting the state"
   ]
  },
  {
   "cell_type": "code",
   "execution_count": null,
   "metadata": {
    "collapsed": true,
    "deletable": false,
    "nbgrader": {
     "checksum": "bdc5627f579bde50a4ec039d8819fb66",
     "grade": true,
     "grade_id": "b_2_test",
     "locked": false,
     "points": 1,
     "solution": true
    }
   },
   "outputs": [],
   "source": [
    "def test_setstate():\n",
    "    # YOUR CODE HERE\n",
    "    raise NotImplementedError()\n",
    "    \n",
    "test_setstate()"
   ]
  },
  {
   "cell_type": "markdown",
   "metadata": {
    "deletable": false,
    "nbgrader": {
     "checksum": "fd40f6196d6507f5078fdfe71afecb2c",
     "grade": false,
     "grade_id": "b_3",
     "locked": true,
     "solution": false
    }
   },
   "source": [
    "B.3. getting the state"
   ]
  },
  {
   "cell_type": "code",
   "execution_count": null,
   "metadata": {
    "collapsed": true,
    "deletable": false,
    "nbgrader": {
     "checksum": "51cb88cea9cbb5251b02b582adbdb72b",
     "grade": true,
     "grade_id": "b_3_test",
     "locked": false,
     "points": 1,
     "solution": true
    }
   },
   "outputs": [],
   "source": [
    "def test_getstate():\n",
    "    # YOUR CODE HERE\n",
    "    raise NotImplementedError()\n",
    "    \n",
    "test_getstate()"
   ]
  },
  {
   "cell_type": "markdown",
   "metadata": {
    "deletable": false,
    "nbgrader": {
     "checksum": "d609f0377ba028316ba929b6b966e8ca",
     "grade": false,
     "grade_id": "b_4",
     "locked": true,
     "solution": false
    }
   },
   "source": [
    "B.4. jumping ahead: at least one test for transitivity, \"jump(a+b) = jump(a) followed by jump(b)\""
   ]
  },
  {
   "cell_type": "code",
   "execution_count": null,
   "metadata": {
    "collapsed": true,
    "deletable": false,
    "nbgrader": {
     "checksum": "b4e4e8e42504801af8d38ecb9e63a396",
     "grade": true,
     "grade_id": "b_4_test",
     "locked": false,
     "points": 1,
     "solution": true
    }
   },
   "outputs": [],
   "source": [
    "def test_transitive(a, b):\n",
    "    \"\"\"\n",
    "    at least test for transitivity, jump(a+b) = jump(a) followed by jump(b)\n",
    "    \"\"\"\n",
    "    # YOUR CODE HERE\n",
    "    raise NotImplementedError()\n",
    "    return  final_number == final_number2\n",
    "    \n",
    "assert test_transitive(10, 20)\n",
    "assert test_transitive(999, 1234567)"
   ]
  },
  {
   "cell_type": "markdown",
   "metadata": {
    "deletable": false,
    "nbgrader": {
     "checksum": "49dcf8467e2d1a53b6d5b75d78209ce6",
     "grade": false,
     "grade_id": "b_5",
     "locked": true,
     "solution": false
    }
   },
   "source": [
    "B.5. getrandbits: at least one test to check exactly k bits are given"
   ]
  },
  {
   "cell_type": "code",
   "execution_count": null,
   "metadata": {
    "collapsed": false,
    "deletable": false,
    "nbgrader": {
     "checksum": "7b96aca097e28a4c3ecf6d883e2d1911",
     "grade": true,
     "grade_id": "b_5_test",
     "locked": false,
     "points": 1,
     "solution": true
    }
   },
   "outputs": [],
   "source": [
    "def test_getrandombits(k):\n",
    "    \"\"\"\n",
    "    Test exactly k bits are given\n",
    "    \"\"\"\n",
    "    # YOUR CODE HERE\n",
    "    raise NotImplementedError()\n",
    "    \n",
    "    \n",
    "test_getrandombits(1)\n",
    "test_getrandombits(32)"
   ]
  },
  {
   "cell_type": "markdown",
   "metadata": {
    "deletable": false,
    "nbgrader": {
     "checksum": "cf123cc616b6eeca9d46da8c384c5804",
     "grade": false,
     "grade_id": "b_6_1",
     "locked": true,
     "solution": false
    }
   },
   "source": [
    "B.6.1. Kolmogorov-Smirnov statistic for random()"
   ]
  },
  {
   "cell_type": "code",
   "execution_count": null,
   "metadata": {
    "collapsed": false,
    "deletable": false,
    "nbgrader": {
     "checksum": "f51caa65f56908741cda119937a4aebc",
     "grade": true,
     "grade_id": "b_6_1_test",
     "locked": false,
     "points": 1,
     "solution": true
    }
   },
   "outputs": [],
   "source": [
    "import numpy as np\n",
    "from statsmodels.distributions.empirical_distribution import ECDF\n",
    "import matplotlib.pyplot as plt\n",
    "%matplotlib inline\n",
    "\n",
    "def test_uniform_KS():\n",
    "    \"\"\"\n",
    "    Kolmogorov-Smirnov statistic for random()\n",
    "    make sure the KS test statistics is small enough\n",
    "    \"\"\"\n",
    "    N = 10000\n",
    "    # YOUR CODE HERE\n",
    "    raise NotImplementedError()\n",
    "    \n",
    "    # Kolmogorov-Smirnov test statistics, 95% confidence interval\n",
    "    print(D_KS)\n",
    "    assert D_KS < 1.36/np.sqrt(N)\n",
    "    \n",
    "    \n",
    "test_uniform_KS()"
   ]
  },
  {
   "cell_type": "markdown",
   "metadata": {
    "deletable": false,
    "nbgrader": {
     "checksum": "c12f3dd22f196be88962e4b51fc30767",
     "grade": false,
     "grade_id": "b_6_2",
     "locked": true,
     "solution": false
    }
   },
   "source": [
    "B.6.2. binomial test for the single-bit frequency for getrandbits()."
   ]
  },
  {
   "cell_type": "code",
   "execution_count": null,
   "metadata": {
    "collapsed": false,
    "deletable": false,
    "nbgrader": {
     "checksum": "cd5c9b4e0b2f83656ac4e2d1333f4a7c",
     "grade": true,
     "grade_id": "b_6_2_test",
     "locked": false,
     "points": 1,
     "solution": true
    }
   },
   "outputs": [],
   "source": [
    "import scipy.stats\n",
    "\n",
    "def test_uniform_binomial():\n",
    "    \"\"\"\n",
    "    binomial test for the single-bit frequency for getrandbits().\n",
    "    make sure the p-value is large enough. \n",
    "    \"\"\"\n",
    "    N = 100000\n",
    "    k = 10\n",
    "    # YOUR CODE HERE\n",
    "    raise NotImplementedError()\n",
    "    assert p_value > 0.8\n",
    "    \n",
    "    \n",
    "test_uniform_binomial()"
   ]
  },
  {
   "cell_type": "markdown",
   "metadata": {
    "deletable": false,
    "nbgrader": {
     "checksum": "00314c676701771d4af0bbfe54570ce3",
     "grade": false,
     "grade_id": "b_7",
     "locked": true,
     "solution": false
    }
   },
   "source": [
    "B.7. tests that your class inherited the expected methods from the parent class"
   ]
  },
  {
   "cell_type": "code",
   "execution_count": null,
   "metadata": {
    "collapsed": true,
    "deletable": false,
    "nbgrader": {
     "checksum": "566e7467bf07c228e240a23871cc2801",
     "grade": true,
     "grade_id": "b_7_test",
     "locked": false,
     "points": 1,
     "solution": true
    }
   },
   "outputs": [],
   "source": [
    "# YOUR CODE HERE\n",
    "raise NotImplementedError()"
   ]
  },
  {
   "cell_type": "markdown",
   "metadata": {
    "deletable": false,
    "nbgrader": {
     "checksum": "4196f2576538fdec1a1f824bff104cb9",
     "grade": false,
     "grade_id": "part_c",
     "locked": true,
     "solution": false
    }
   },
   "source": [
    "---\n",
    "## Part c (2 points)\n",
    "Use the Jupyter “magic” %timeit command to compare the amount of time it takes to generate $10^5$ PRNs using your SHA-256 method and using the default Python PRNG. Use the first cell to time your method, the second cell to time Python method, the third cell to discuss possible reasons for the difference. "
   ]
  },
  {
   "cell_type": "code",
   "execution_count": null,
   "metadata": {
    "collapsed": false,
    "deletable": false,
    "nbgrader": {
     "checksum": "ce0aaae84387798be61d3c51d10c2206",
     "grade": true,
     "grade_id": "c_1",
     "locked": false,
     "points": 0.5,
     "solution": true
    }
   },
   "outputs": [],
   "source": [
    "# YOUR CODE HERE\n",
    "raise NotImplementedError()"
   ]
  },
  {
   "cell_type": "code",
   "execution_count": null,
   "metadata": {
    "collapsed": false,
    "deletable": false,
    "nbgrader": {
     "checksum": "5fd00694577024a23111c2e5417df4fb",
     "grade": true,
     "grade_id": "c_2",
     "locked": false,
     "points": 0.5,
     "solution": true
    }
   },
   "outputs": [],
   "source": [
    "# YOUR CODE HERE\n",
    "raise NotImplementedError()"
   ]
  },
  {
   "cell_type": "markdown",
   "metadata": {
    "deletable": false,
    "nbgrader": {
     "checksum": "8a59a0225b041ae4a6c530fe9bd35aa6",
     "grade": true,
     "grade_id": "c_3",
     "locked": false,
     "points": 1,
     "solution": true
    }
   },
   "source": [
    "YOUR ANSWER HERE"
   ]
  }
 ],
 "metadata": {
  "anaconda-cloud": {},
  "kernelspec": {
   "display_name": "Python 2",
   "language": "python",
   "name": "python2"
  },
  "language_info": {
   "codemirror_mode": {
    "name": "ipython",
    "version": 2
   },
   "file_extension": ".py",
   "mimetype": "text/x-python",
   "name": "python",
   "nbconvert_exporter": "python",
   "pygments_lexer": "ipython2",
   "version": "2.7.11"
  }
 },
 "nbformat": 4,
 "nbformat_minor": 0
}
